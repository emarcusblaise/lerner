{
 "cells": [
  {
   "cell_type": "code",
   "execution_count": 15,
   "id": "89e9d5bf",
   "metadata": {},
   "outputs": [],
   "source": [
    "import numpy as np\n",
    "import pandas as pd\n",
    "from pandas import Series, DataFrame"
   ]
  },
  {
   "cell_type": "code",
   "execution_count": 16,
   "id": "2da56aee",
   "metadata": {},
   "outputs": [
    {
     "name": "stdout",
     "output_type": "stream",
     "text": [
      "6\n"
     ]
    }
   ],
   "source": [
    "from glob import glob\n",
    "all_dfs = glob('*.csv')\n",
    "print(len(all_dfs))"
   ]
  },
  {
   "cell_type": "code",
   "execution_count": 17,
   "id": "6fd5db3c",
   "metadata": {},
   "outputs": [],
   "source": [
    "import glob\n",
    "\n",
    "all_dfs = []\n",
    "\n",
    "for one_filename in glob.glob('??STHPI.csv'):\n",
    "    one_df = pd.read_csv(one_filename, names=['date', 'price'], \n",
    "                         header=0,\n",
    "                        parse_dates=['date'])\n",
    "    one_df['location'] = one_filename[-11:-9]\n",
    "    all_dfs.append(one_df)"
   ]
  },
  {
   "cell_type": "code",
   "execution_count": 18,
   "id": "7d6e6d18",
   "metadata": {},
   "outputs": [
    {
     "data": {
      "text/plain": [
       "6"
      ]
     },
     "execution_count": 18,
     "metadata": {},
     "output_type": "execute_result"
    }
   ],
   "source": [
    "len(all_dfs)"
   ]
  },
  {
   "cell_type": "code",
   "execution_count": 19,
   "id": "42dff916",
   "metadata": {},
   "outputs": [
    {
     "data": {
      "text/plain": [
       "list"
      ]
     },
     "execution_count": 19,
     "metadata": {},
     "output_type": "execute_result"
    }
   ],
   "source": [
    "type(all_dfs)"
   ]
  },
  {
   "cell_type": "code",
   "execution_count": 20,
   "id": "2f0ac5bc",
   "metadata": {},
   "outputs": [
    {
     "data": {
      "text/plain": [
       "pandas.core.frame.DataFrame"
      ]
     },
     "execution_count": 20,
     "metadata": {},
     "output_type": "execute_result"
    }
   ],
   "source": [
    "type(all_dfs[0])"
   ]
  },
  {
   "cell_type": "code",
   "execution_count": 21,
   "id": "743d13cb",
   "metadata": {},
   "outputs": [],
   "source": [
    "df = pd.concat(all_dfs).set_index(['date', 'location']).sort_index()"
   ]
  },
  {
   "cell_type": "code",
   "execution_count": 22,
   "id": "dedafd6b",
   "metadata": {},
   "outputs": [
    {
     "data": {
      "text/plain": [
       "1158"
      ]
     },
     "execution_count": 22,
     "metadata": {},
     "output_type": "execute_result"
    }
   ],
   "source": [
    "len(df)"
   ]
  },
  {
   "cell_type": "code",
   "execution_count": 23,
   "id": "8d206aab",
   "metadata": {},
   "outputs": [
    {
     "data": {
      "text/plain": [
       "951.26"
      ]
     },
     "execution_count": 23,
     "metadata": {},
     "output_type": "execute_result"
    }
   ],
   "source": [
    "df['price'].max()"
   ]
  },
  {
   "cell_type": "code",
   "execution_count": 24,
   "id": "9506f6b9",
   "metadata": {},
   "outputs": [
    {
     "data": {
      "text/html": [
       "<div>\n",
       "<style scoped>\n",
       "    .dataframe tbody tr th:only-of-type {\n",
       "        vertical-align: middle;\n",
       "    }\n",
       "\n",
       "    .dataframe tbody tr th {\n",
       "        vertical-align: top;\n",
       "    }\n",
       "\n",
       "    .dataframe thead th {\n",
       "        text-align: right;\n",
       "    }\n",
       "</style>\n",
       "<table border=\"1\" class=\"dataframe\">\n",
       "  <thead>\n",
       "    <tr style=\"text-align: right;\">\n",
       "      <th></th>\n",
       "      <th></th>\n",
       "      <th>price</th>\n",
       "    </tr>\n",
       "    <tr>\n",
       "      <th>date</th>\n",
       "      <th>location</th>\n",
       "      <th></th>\n",
       "    </tr>\n",
       "  </thead>\n",
       "  <tbody>\n",
       "    <tr>\n",
       "      <th>2022-07-01</th>\n",
       "      <th>NY</th>\n",
       "      <td>951.26</td>\n",
       "    </tr>\n",
       "  </tbody>\n",
       "</table>\n",
       "</div>"
      ],
      "text/plain": [
       "                      price\n",
       "date       location        \n",
       "2022-07-01 NY        951.26"
      ]
     },
     "execution_count": 24,
     "metadata": {},
     "output_type": "execute_result"
    }
   ],
   "source": [
    "df.loc[df['price'] == df['price'].max()]"
   ]
  },
  {
   "cell_type": "markdown",
   "id": "b718b91b",
   "metadata": {},
   "source": [
    "This is faster:"
   ]
  },
  {
   "cell_type": "code",
   "execution_count": 25,
   "id": "464ba7e6",
   "metadata": {},
   "outputs": [
    {
     "data": {
      "text/plain": [
       "(Timestamp('2022-07-01 00:00:00'), 'NY')"
      ]
     },
     "execution_count": 25,
     "metadata": {},
     "output_type": "execute_result"
    }
   ],
   "source": [
    "df['price'].idxmax()"
   ]
  },
  {
   "cell_type": "code",
   "execution_count": 26,
   "id": "cca70b37",
   "metadata": {},
   "outputs": [
    {
     "data": {
      "text/plain": [
       "tuple"
      ]
     },
     "execution_count": 26,
     "metadata": {},
     "output_type": "execute_result"
    }
   ],
   "source": [
    "type(df['price'].idxmax())"
   ]
  },
  {
   "cell_type": "code",
   "execution_count": 27,
   "id": "31ac5884",
   "metadata": {},
   "outputs": [
    {
     "data": {
      "text/plain": [
       "pandas.core.frame.DataFrame"
      ]
     },
     "execution_count": 27,
     "metadata": {},
     "output_type": "execute_result"
    }
   ],
   "source": [
    "type(df.loc[df['price'] == df['price'].max()])"
   ]
  },
  {
   "cell_type": "code",
   "execution_count": 28,
   "id": "aaff5e4d",
   "metadata": {},
   "outputs": [
    {
     "data": {
      "text/plain": [
       "Timedelta('383 days 17:56:21.266929')"
      ]
     },
     "execution_count": 28,
     "metadata": {},
     "output_type": "execute_result"
    }
   ],
   "source": [
    "pd.Timestamp('now') - df['price'].idxmax()[0]"
   ]
  },
  {
   "cell_type": "code",
   "execution_count": 29,
   "id": "e7156d88",
   "metadata": {},
   "outputs": [
    {
     "data": {
      "text/plain": [
       "Timestamp('2023-01-01 00:00:00')"
      ]
     },
     "execution_count": 29,
     "metadata": {},
     "output_type": "execute_result"
    }
   ],
   "source": [
    "df.index[-1][0]"
   ]
  },
  {
   "cell_type": "code",
   "execution_count": 30,
   "id": "ae2f372f",
   "metadata": {},
   "outputs": [
    {
     "data": {
      "text/html": [
       "<div>\n",
       "<style scoped>\n",
       "    .dataframe tbody tr th:only-of-type {\n",
       "        vertical-align: middle;\n",
       "    }\n",
       "\n",
       "    .dataframe tbody tr th {\n",
       "        vertical-align: top;\n",
       "    }\n",
       "\n",
       "    .dataframe thead th {\n",
       "        text-align: right;\n",
       "    }\n",
       "</style>\n",
       "<table border=\"1\" class=\"dataframe\">\n",
       "  <thead>\n",
       "    <tr style=\"text-align: right;\">\n",
       "      <th></th>\n",
       "      <th>price</th>\n",
       "    </tr>\n",
       "    <tr>\n",
       "      <th>location</th>\n",
       "      <th></th>\n",
       "    </tr>\n",
       "  </thead>\n",
       "  <tbody>\n",
       "    <tr>\n",
       "      <th>CA</th>\n",
       "      <td>891.69</td>\n",
       "    </tr>\n",
       "    <tr>\n",
       "      <th>CO</th>\n",
       "      <td>812.49</td>\n",
       "    </tr>\n",
       "    <tr>\n",
       "      <th>FL</th>\n",
       "      <td>766.75</td>\n",
       "    </tr>\n",
       "    <tr>\n",
       "      <th>HI</th>\n",
       "      <td>876.92</td>\n",
       "    </tr>\n",
       "    <tr>\n",
       "      <th>MI</th>\n",
       "      <td>477.03</td>\n",
       "    </tr>\n",
       "    <tr>\n",
       "      <th>NY</th>\n",
       "      <td>946.32</td>\n",
       "    </tr>\n",
       "  </tbody>\n",
       "</table>\n",
       "</div>"
      ],
      "text/plain": [
       "           price\n",
       "location        \n",
       "CA        891.69\n",
       "CO        812.49\n",
       "FL        766.75\n",
       "HI        876.92\n",
       "MI        477.03\n",
       "NY        946.32"
      ]
     },
     "execution_count": 30,
     "metadata": {},
     "output_type": "execute_result"
    }
   ],
   "source": [
    "df.loc[df.index[-1][0]]"
   ]
  },
  {
   "cell_type": "code",
   "execution_count": 31,
   "id": "19ad8a3b",
   "metadata": {},
   "outputs": [
    {
     "data": {
      "text/plain": [
       "'NY'"
      ]
     },
     "execution_count": 31,
     "metadata": {},
     "output_type": "execute_result"
    }
   ],
   "source": [
    "df.loc[df.index[-1][0], 'price'].idxmax()"
   ]
  },
  {
   "cell_type": "code",
   "execution_count": 32,
   "id": "8c6ed811",
   "metadata": {},
   "outputs": [
    {
     "data": {
      "text/html": [
       "<div>\n",
       "<style scoped>\n",
       "    .dataframe tbody tr th:only-of-type {\n",
       "        vertical-align: middle;\n",
       "    }\n",
       "\n",
       "    .dataframe tbody tr th {\n",
       "        vertical-align: top;\n",
       "    }\n",
       "\n",
       "    .dataframe thead th {\n",
       "        text-align: right;\n",
       "    }\n",
       "</style>\n",
       "<table border=\"1\" class=\"dataframe\">\n",
       "  <thead>\n",
       "    <tr style=\"text-align: right;\">\n",
       "      <th></th>\n",
       "      <th>mean</th>\n",
       "      <th>median</th>\n",
       "    </tr>\n",
       "    <tr>\n",
       "      <th>location</th>\n",
       "      <th></th>\n",
       "      <th></th>\n",
       "    </tr>\n",
       "  </thead>\n",
       "  <tbody>\n",
       "    <tr>\n",
       "      <th>CA</th>\n",
       "      <td>332.970104</td>\n",
       "      <td>235.46</td>\n",
       "    </tr>\n",
       "    <tr>\n",
       "      <th>CO</th>\n",
       "      <td>274.028446</td>\n",
       "      <td>230.82</td>\n",
       "    </tr>\n",
       "    <tr>\n",
       "      <th>FL</th>\n",
       "      <td>252.956891</td>\n",
       "      <td>190.80</td>\n",
       "    </tr>\n",
       "    <tr>\n",
       "      <th>HI</th>\n",
       "      <td>325.520777</td>\n",
       "      <td>262.75</td>\n",
       "    </tr>\n",
       "    <tr>\n",
       "      <th>MI</th>\n",
       "      <td>214.134922</td>\n",
       "      <td>227.52</td>\n",
       "    </tr>\n",
       "    <tr>\n",
       "      <th>NY</th>\n",
       "      <td>396.655492</td>\n",
       "      <td>310.02</td>\n",
       "    </tr>\n",
       "  </tbody>\n",
       "</table>\n",
       "</div>"
      ],
      "text/plain": [
       "                mean  median\n",
       "location                    \n",
       "CA        332.970104  235.46\n",
       "CO        274.028446  230.82\n",
       "FL        252.956891  190.80\n",
       "HI        325.520777  262.75\n",
       "MI        214.134922  227.52\n",
       "NY        396.655492  310.02"
      ]
     },
     "execution_count": 32,
     "metadata": {},
     "output_type": "execute_result"
    }
   ],
   "source": [
    "df.groupby(level='location')['price'].agg(['mean','median'])"
   ]
  },
  {
   "cell_type": "code",
   "execution_count": 33,
   "id": "eb6b146b",
   "metadata": {},
   "outputs": [
    {
     "data": {
      "text/html": [
       "<div>\n",
       "<style scoped>\n",
       "    .dataframe tbody tr th:only-of-type {\n",
       "        vertical-align: middle;\n",
       "    }\n",
       "\n",
       "    .dataframe tbody tr th {\n",
       "        vertical-align: top;\n",
       "    }\n",
       "\n",
       "    .dataframe thead th {\n",
       "        text-align: right;\n",
       "    }\n",
       "</style>\n",
       "<table border=\"1\" class=\"dataframe\">\n",
       "  <thead>\n",
       "    <tr style=\"text-align: right;\">\n",
       "      <th></th>\n",
       "      <th>price</th>\n",
       "    </tr>\n",
       "    <tr>\n",
       "      <th>date</th>\n",
       "      <th></th>\n",
       "    </tr>\n",
       "  </thead>\n",
       "  <tbody>\n",
       "    <tr>\n",
       "      <th>1975-01-01</th>\n",
       "      <td>78.45</td>\n",
       "    </tr>\n",
       "    <tr>\n",
       "      <th>1975-04-01</th>\n",
       "      <td>75.77</td>\n",
       "    </tr>\n",
       "    <tr>\n",
       "      <th>1975-07-01</th>\n",
       "      <td>77.75</td>\n",
       "    </tr>\n",
       "    <tr>\n",
       "      <th>1975-10-01</th>\n",
       "      <td>79.61</td>\n",
       "    </tr>\n",
       "    <tr>\n",
       "      <th>1976-01-01</th>\n",
       "      <td>73.08</td>\n",
       "    </tr>\n",
       "    <tr>\n",
       "      <th>...</th>\n",
       "      <td>...</td>\n",
       "    </tr>\n",
       "    <tr>\n",
       "      <th>2022-01-01</th>\n",
       "      <td>877.77</td>\n",
       "    </tr>\n",
       "    <tr>\n",
       "      <th>2022-04-01</th>\n",
       "      <td>929.97</td>\n",
       "    </tr>\n",
       "    <tr>\n",
       "      <th>2022-07-01</th>\n",
       "      <td>951.26</td>\n",
       "    </tr>\n",
       "    <tr>\n",
       "      <th>2022-10-01</th>\n",
       "      <td>946.79</td>\n",
       "    </tr>\n",
       "    <tr>\n",
       "      <th>2023-01-01</th>\n",
       "      <td>946.32</td>\n",
       "    </tr>\n",
       "  </tbody>\n",
       "</table>\n",
       "<p>193 rows × 1 columns</p>\n",
       "</div>"
      ],
      "text/plain": [
       "             price\n",
       "date              \n",
       "1975-01-01   78.45\n",
       "1975-04-01   75.77\n",
       "1975-07-01   77.75\n",
       "1975-10-01   79.61\n",
       "1976-01-01   73.08\n",
       "...            ...\n",
       "2022-01-01  877.77\n",
       "2022-04-01  929.97\n",
       "2022-07-01  951.26\n",
       "2022-10-01  946.79\n",
       "2023-01-01  946.32\n",
       "\n",
       "[193 rows x 1 columns]"
      ]
     },
     "execution_count": 33,
     "metadata": {},
     "output_type": "execute_result"
    }
   ],
   "source": [
    "df.xs('NY', level='location')"
   ]
  },
  {
   "cell_type": "code",
   "execution_count": 34,
   "id": "9b479e09",
   "metadata": {},
   "outputs": [
    {
     "data": {
      "text/plain": [
       "396.65549222797927"
      ]
     },
     "execution_count": 34,
     "metadata": {},
     "output_type": "execute_result"
    }
   ],
   "source": [
    "df.xs('NY', level='location')['price'].mean()"
   ]
  },
  {
   "cell_type": "code",
   "execution_count": 35,
   "id": "d1d9e8b4",
   "metadata": {},
   "outputs": [
    {
     "data": {
      "text/plain": [
       "570.2147619047619"
      ]
     },
     "execution_count": 35,
     "metadata": {},
     "output_type": "execute_result"
    }
   ],
   "source": [
    "df.xs((slice('2000','2020'), 'NY'), level=['date','location'])['price'].mean()"
   ]
  },
  {
   "cell_type": "code",
   "execution_count": 36,
   "id": "3bc72a1b",
   "metadata": {},
   "outputs": [
    {
     "data": {
      "text/plain": [
       "(slice('2000', '2020', None), ['CA', 'NY'])"
      ]
     },
     "execution_count": 36,
     "metadata": {},
     "output_type": "execute_result"
    }
   ],
   "source": [
    "from pandas import IndexSlice as idx\n",
    "idx['2000':'2020', ['CA','NY']]"
   ]
  },
  {
   "cell_type": "code",
   "execution_count": 37,
   "id": "6f8d8825",
   "metadata": {},
   "outputs": [
    {
     "data": {
      "text/html": [
       "<div>\n",
       "<style scoped>\n",
       "    .dataframe tbody tr th:only-of-type {\n",
       "        vertical-align: middle;\n",
       "    }\n",
       "\n",
       "    .dataframe tbody tr th {\n",
       "        vertical-align: top;\n",
       "    }\n",
       "\n",
       "    .dataframe thead th {\n",
       "        text-align: right;\n",
       "    }\n",
       "</style>\n",
       "<table border=\"1\" class=\"dataframe\">\n",
       "  <thead>\n",
       "    <tr style=\"text-align: right;\">\n",
       "      <th></th>\n",
       "      <th></th>\n",
       "      <th>price</th>\n",
       "    </tr>\n",
       "    <tr>\n",
       "      <th>date</th>\n",
       "      <th>location</th>\n",
       "      <th></th>\n",
       "    </tr>\n",
       "  </thead>\n",
       "  <tbody>\n",
       "    <tr>\n",
       "      <th rowspan=\"2\" valign=\"top\">2000-01-01</th>\n",
       "      <th>CA</th>\n",
       "      <td>261.03</td>\n",
       "    </tr>\n",
       "    <tr>\n",
       "      <th>NY</th>\n",
       "      <td>335.61</td>\n",
       "    </tr>\n",
       "    <tr>\n",
       "      <th rowspan=\"2\" valign=\"top\">2000-04-01</th>\n",
       "      <th>CA</th>\n",
       "      <td>268.06</td>\n",
       "    </tr>\n",
       "    <tr>\n",
       "      <th>NY</th>\n",
       "      <td>345.65</td>\n",
       "    </tr>\n",
       "    <tr>\n",
       "      <th>2000-07-01</th>\n",
       "      <th>CA</th>\n",
       "      <td>277.05</td>\n",
       "    </tr>\n",
       "    <tr>\n",
       "      <th>...</th>\n",
       "      <th>...</th>\n",
       "      <td>...</td>\n",
       "    </tr>\n",
       "    <tr>\n",
       "      <th>2020-04-01</th>\n",
       "      <th>NY</th>\n",
       "      <td>723.32</td>\n",
       "    </tr>\n",
       "    <tr>\n",
       "      <th rowspan=\"2\" valign=\"top\">2020-07-01</th>\n",
       "      <th>CA</th>\n",
       "      <td>685.69</td>\n",
       "    </tr>\n",
       "    <tr>\n",
       "      <th>NY</th>\n",
       "      <td>735.16</td>\n",
       "    </tr>\n",
       "    <tr>\n",
       "      <th rowspan=\"2\" valign=\"top\">2020-10-01</th>\n",
       "      <th>CA</th>\n",
       "      <td>699.83</td>\n",
       "    </tr>\n",
       "    <tr>\n",
       "      <th>NY</th>\n",
       "      <td>751.13</td>\n",
       "    </tr>\n",
       "  </tbody>\n",
       "</table>\n",
       "<p>168 rows × 1 columns</p>\n",
       "</div>"
      ],
      "text/plain": [
       "                      price\n",
       "date       location        \n",
       "2000-01-01 CA        261.03\n",
       "           NY        335.61\n",
       "2000-04-01 CA        268.06\n",
       "           NY        345.65\n",
       "2000-07-01 CA        277.05\n",
       "...                     ...\n",
       "2020-04-01 NY        723.32\n",
       "2020-07-01 CA        685.69\n",
       "           NY        735.16\n",
       "2020-10-01 CA        699.83\n",
       "           NY        751.13\n",
       "\n",
       "[168 rows x 1 columns]"
      ]
     },
     "execution_count": 37,
     "metadata": {},
     "output_type": "execute_result"
    }
   ],
   "source": [
    "df.loc[idx['2000':'2020', ['CA','NY']],:]"
   ]
  },
  {
   "cell_type": "code",
   "execution_count": 38,
   "id": "7304f721",
   "metadata": {},
   "outputs": [
    {
     "data": {
      "text/plain": [
       "<pandas.core.groupby.generic.DataFrameGroupBy object at 0x0000017D185D2CD0>"
      ]
     },
     "execution_count": 38,
     "metadata": {},
     "output_type": "execute_result"
    }
   ],
   "source": [
    "df.loc[idx['2000':'2020', ['CA','NY']],:].groupby('location')"
   ]
  },
  {
   "cell_type": "code",
   "execution_count": 39,
   "id": "4e009046",
   "metadata": {},
   "outputs": [
    {
     "data": {
      "text/html": [
       "<div>\n",
       "<style scoped>\n",
       "    .dataframe tbody tr th:only-of-type {\n",
       "        vertical-align: middle;\n",
       "    }\n",
       "\n",
       "    .dataframe tbody tr th {\n",
       "        vertical-align: top;\n",
       "    }\n",
       "\n",
       "    .dataframe thead th {\n",
       "        text-align: right;\n",
       "    }\n",
       "</style>\n",
       "<table border=\"1\" class=\"dataframe\">\n",
       "  <thead>\n",
       "    <tr style=\"text-align: right;\">\n",
       "      <th></th>\n",
       "      <th>price</th>\n",
       "    </tr>\n",
       "    <tr>\n",
       "      <th>location</th>\n",
       "      <th></th>\n",
       "    </tr>\n",
       "  </thead>\n",
       "  <tbody>\n",
       "    <tr>\n",
       "      <th>CA</th>\n",
       "      <td>489.775714</td>\n",
       "    </tr>\n",
       "    <tr>\n",
       "      <th>NY</th>\n",
       "      <td>570.214762</td>\n",
       "    </tr>\n",
       "  </tbody>\n",
       "</table>\n",
       "</div>"
      ],
      "text/plain": [
       "               price\n",
       "location            \n",
       "CA        489.775714\n",
       "NY        570.214762"
      ]
     },
     "execution_count": 39,
     "metadata": {},
     "output_type": "execute_result"
    }
   ],
   "source": [
    "df.loc[idx['2000':'2020', ['CA','NY']],:].groupby('location').mean()"
   ]
  },
  {
   "cell_type": "code",
   "execution_count": 40,
   "id": "ef312d12",
   "metadata": {},
   "outputs": [
    {
     "data": {
      "text/plain": [
       "date        location\n",
       "2020-01-01  CA          670.09\n",
       "            CO          591.61\n",
       "            FL          486.41\n",
       "            HI          643.44\n",
       "            MI          354.98\n",
       "                         ...  \n",
       "2023-01-01  CO          812.49\n",
       "            FL          766.75\n",
       "            HI          876.92\n",
       "            MI          477.03\n",
       "            NY          946.32\n",
       "Name: price, Length: 78, dtype: float64"
      ]
     },
     "execution_count": 40,
     "metadata": {},
     "output_type": "execute_result"
    }
   ],
   "source": [
    "df.loc['2020':, 'price']"
   ]
  },
  {
   "cell_type": "code",
   "execution_count": 41,
   "id": "d800539d",
   "metadata": {},
   "outputs": [
    {
     "data": {
      "text/plain": [
       "date        location\n",
       "2020-01-01  CA               NaN\n",
       "            CO               NaN\n",
       "            FL               NaN\n",
       "            HI               NaN\n",
       "            MI               NaN\n",
       "                          ...   \n",
       "2023-01-01  CO          0.001603\n",
       "            FL          0.000196\n",
       "            HI         -0.022102\n",
       "            MI          0.005607\n",
       "            NY         -0.000496\n",
       "Name: price, Length: 78, dtype: float64"
      ]
     },
     "execution_count": 41,
     "metadata": {},
     "output_type": "execute_result"
    }
   ],
   "source": [
    "df.loc['2020':, 'price'].groupby(level='location').pct_change()"
   ]
  },
  {
   "cell_type": "code",
   "execution_count": 42,
   "id": "952ae2bc",
   "metadata": {},
   "outputs": [
    {
     "data": {
      "text/plain": [
       "date        location\n",
       "2020-01-01  CA               NaN\n",
       "            CO               NaN\n",
       "            FL               NaN\n",
       "            HI               NaN\n",
       "            MI               NaN\n",
       "                          ...   \n",
       "2023-01-01  CO          0.357317\n",
       "            FL          0.556474\n",
       "            HI          0.345630\n",
       "            MI          0.329812\n",
       "            NY          0.308301\n",
       "Name: price, Length: 78, dtype: float64"
      ]
     },
     "execution_count": 42,
     "metadata": {},
     "output_type": "execute_result"
    }
   ],
   "source": [
    "df.loc['2020':, 'price'].groupby(level='location').pct_change(periods=11)"
   ]
  },
  {
   "cell_type": "code",
   "execution_count": 43,
   "id": "76953a04",
   "metadata": {},
   "outputs": [
    {
     "name": "stdout",
     "output_type": "stream",
     "text": [
      "nan\n",
      "nan\n",
      "nan\n",
      "nan\n",
      "nan\n",
      "nan\n",
      "nan\n",
      "nan\n",
      "nan\n",
      "nan\n",
      "nan\n",
      "nan\n",
      "nan\n",
      "nan\n",
      "nan\n",
      "nan\n",
      "nan\n",
      "nan\n",
      "nan\n",
      "nan\n",
      "nan\n",
      "nan\n",
      "nan\n",
      "nan\n",
      "nan\n",
      "nan\n",
      "nan\n",
      "nan\n",
      "nan\n",
      "nan\n",
      "nan\n",
      "nan\n",
      "nan\n",
      "nan\n",
      "nan\n",
      "nan\n",
      "nan\n",
      "nan\n",
      "nan\n",
      "nan\n",
      "nan\n",
      "nan\n",
      "nan\n",
      "nan\n",
      "nan\n",
      "nan\n",
      "nan\n",
      "nan\n",
      "nan\n",
      "nan\n",
      "nan\n",
      "nan\n",
      "nan\n",
      "nan\n",
      "nan\n",
      "nan\n",
      "nan\n",
      "nan\n",
      "nan\n",
      "nan\n",
      "nan\n",
      "nan\n",
      "nan\n",
      "nan\n",
      "nan\n",
      "nan\n",
      "0.33786506290199814\n",
      "0.37115667416034226\n",
      "0.5760366768775314\n",
      "0.39366529901777936\n",
      "0.33632880725674674\n",
      "0.3197886754579162\n",
      "0.31562329403780054\n",
      "0.3573170731707316\n",
      "0.5564735495919775\n",
      "0.34562975693591946\n",
      "0.3298115521855485\n",
      "0.30830061383619967\n"
     ]
    }
   ],
   "source": [
    "for ob in df.loc['2020':, 'price'].groupby(level='location').pct_change(periods=11):\n",
    "    print(ob)"
   ]
  },
  {
   "cell_type": "code",
   "execution_count": 44,
   "id": "b1125850",
   "metadata": {},
   "outputs": [
    {
     "data": {
      "text/plain": [
       "date        location\n",
       "2023-01-01  NY          0.308301\n",
       "            CA          0.315623\n",
       "            MI          0.329812\n",
       "            HI          0.345630\n",
       "            CO          0.357317\n",
       "            FL          0.556474\n",
       "Name: price, dtype: float64"
      ]
     },
     "execution_count": 44,
     "metadata": {},
     "output_type": "execute_result"
    }
   ],
   "source": [
    "df.loc['2020':, 'price'].groupby(level='location').pct_change(periods=11).tail(6).sort_values()"
   ]
  },
  {
   "cell_type": "code",
   "execution_count": null,
   "id": "554f8750",
   "metadata": {},
   "outputs": [],
   "source": []
  }
 ],
 "metadata": {
  "kernelspec": {
   "display_name": "Python [conda env:lerner]",
   "language": "python",
   "name": "conda-env-lerner-py"
  },
  "language_info": {
   "codemirror_mode": {
    "name": "ipython",
    "version": 3
   },
   "file_extension": ".py",
   "mimetype": "text/x-python",
   "name": "python",
   "nbconvert_exporter": "python",
   "pygments_lexer": "ipython3",
   "version": "3.11.4"
  }
 },
 "nbformat": 4,
 "nbformat_minor": 5
}
